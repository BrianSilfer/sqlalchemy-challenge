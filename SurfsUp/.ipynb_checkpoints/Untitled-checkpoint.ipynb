{
 "cells": [
  {
   "cell_type": "code",
   "execution_count": 1,
   "id": "14ca4aba",
   "metadata": {},
   "outputs": [],
   "source": [
    "# Import the dependencies.\n",
    "import numpy as np\n",
    "import os\n",
    "import sqlalchemy\n",
    "from sqlalchemy.ext.automap import automap_base\n",
    "from sqlalchemy.orm import Session, query\n",
    "from sqlalchemy import create_engine, func\n",
    "from flask import Flask, jsonify\n",
    "import json\n"
   ]
  },
  {
   "cell_type": "code",
   "execution_count": 2,
   "id": "10cd663a",
   "metadata": {},
   "outputs": [],
   "source": [
    "#################################################\n",
    "# Database Setup\n",
    "#################################################\n",
    "# create engine to hawaii.sqlite\n",
    "engine = create_engine(\"sqlite:///Resources/hawaii.sqlite\")\n",
    "\n",
    "\n",
    "# reflect an existing database into a new model\n",
    "Base = automap_base()\n",
    "# reflect the tables\n",
    "Base.prepare(autoload_with=engine)\n",
    "# Save references to each table\n",
    "Measurement = Base.classes.measurement\n",
    "\n",
    "Station = Base.classes.station\n",
    "\n",
    "# Create our session (link) from Python to the DB\n",
    "session = Session(engine)\n"
   ]
  },
  {
   "cell_type": "code",
   "execution_count": 3,
   "id": "8110ef40",
   "metadata": {},
   "outputs": [],
   "source": [
    "#################################################\n",
    "# Flask Setup\n",
    "#################################################\n",
    "app = Flask(__name__)\n"
   ]
  },
  {
   "cell_type": "code",
   "execution_count": 4,
   "id": "953e9491",
   "metadata": {},
   "outputs": [],
   "source": [
    "\n",
    "#################################################\n",
    "# Flask Routes\n",
    "#################################################\n",
    "@app.route(\"/\")\n",
    "def Homepage():\n",
    "    \"\"\"List all available api routes.\"\"\"\n",
    "    return (\n",
    "        f\"Available Routes:<br/>\"\n",
    "        f\"/api/v1.0/precipitation<br/>\"\n",
    "        f\"/api/v1.0/stations\"\n",
    "        f\"/api/v1.0/tobs\"\n",
    "        f\"/api/v1.0/<start>/<end>\"\n",
    "\n",
    "    )\n",
    "\n"
   ]
  },
  {
   "cell_type": "code",
   "execution_count": 5,
   "id": "7df72249",
   "metadata": {
    "scrolled": true
   },
   "outputs": [],
   "source": [
    "@app.route(\"/api/v1.0/precipitation\")\n",
    "def precipitation_measurements():\n",
    "    # Create our session (link) from Python to the DB\n",
    "    session = Session(engine)\n",
    "\n",
    "    \"\"\"Convert results from precipitaion analysis\"\"\"\n",
    "    # Query all last 12 months of precipitation data\n",
    "    results = session.query(Measurement).filter(Measurement.date >= \"2016-08-23\",Measurement.date <= \"2017-07-23\").all()\n",
    "    #setup empty dictionary\n",
    "    last_12_dict = []\n",
    "    #for loop to collect each row of the query results to create a list of dictionaries\n",
    "    for row in results:\n",
    "        #define empty dictionary for precipitation results\n",
    "        row_dict = {}\n",
    "        # Extract date and precipitation values from the row\n",
    "        date = row.date\n",
    "        precipitation = row.prcp\n",
    "        # Set date as key and Precipitation as value in row_dict\n",
    "        row_dict[date] = precipitation\n",
    "        #append dict to list of dictinoaries\n",
    "        last_12_dict.append(row_dict)\n",
    "    #Convert python object into json object\n",
    "    json_data = json.dumps(last_12_dict)\n",
    "    #return Json data\n",
    "    return jsonify(json_data)\n",
    "    #close session\n",
    "    session.close()"
   ]
  },
  {
   "cell_type": "code",
   "execution_count": 6,
   "id": "6db07fc1",
   "metadata": {},
   "outputs": [],
   "source": [
    "@app.route(\"/api/v1.0/stations\")\n",
    "def station():\n",
    "    # Create our session (link) from Python to the DB\n",
    "    session = Session(engine)\n",
    "    #query to find all station names\n",
    "    active_stations = session.query(Measurement.station).group_by(Measurement.station).all()\n",
    "    # Extracting Data from Query\n",
    "    station_list = [station[0] for station in active_stations]\n",
    "    #Convert python object into json object\n",
    "    json_stations = json.dumps(station_list)\n",
    "    #return JSON list\n",
    "    return jsonify(json_stations)\n",
    "    #close session\n",
    "    "
   ]
  },
  {
   "cell_type": "code",
   "execution_count": 7,
   "id": "68988101",
   "metadata": {},
   "outputs": [],
   "source": [
    "@app.route(\"/api/v1.0/tobs\")\n",
    "def temps():\n",
    "    # Create our session (link) from Python to the DB\n",
    "    session = Session(engine)\n",
    "    #Query to return data after 2016 -11-09\n",
    "    query = session.query(Measurement.tobs).filter(Measurement.date >= \"2016-11-09\").all()\n",
    "    \n",
    "    \n",
    "    json_temp = json.dumps(tobs)\n",
    "    #return JSON list\n",
    "    return jsonify(json_temp)\n",
    "    #close session\n",
    "    "
   ]
  },
  {
   "cell_type": "code",
   "execution_count": 8,
   "id": "364e2f72",
   "metadata": {},
   "outputs": [],
   "source": [
    "@app.route(\"/api/v1.0/<start>/<end>\")\n",
    "def temp_dates():\n",
    "    # Create our session (link) from Python to the DB\n",
    "    session = Session(engine)\n",
    "    #Query the dates and temperature observations of the most-active station for the previous year of data.\n",
    "    #find Min, max, avg from each date\n",
    "    most_active = session.query(Measurement.date,\\\n",
    "    func.min(Measurement.tobs).label('TMIN'),\n",
    "    func.avg(Measurement.tobs).label('TAVG'),\n",
    "    func.max(Measurement.tobs).label('TMAX'))\\\n",
    "    .filter(Measurement.date >= \"2016-08-23\", Measurement.date <= \"2017-07-23\").all()\n",
    "    #extract query data\n",
    "    temps_list = [{'date': row.date, 'TMIN': row.min,'TAVG': row.avg, 'TMAX': row.max} for row in most_active]\n",
    "    #Convert python object into json object\n",
    "    json_list = json.dumps(temps_list)\n",
    "    #return JSON list\n",
    "    return jsonify(json_list)\n",
    "    #close session\n",
    "    "
   ]
  },
  {
   "cell_type": "code",
   "execution_count": null,
   "id": "c4423bdf",
   "metadata": {},
   "outputs": [],
   "source": []
  },
  {
   "cell_type": "code",
   "execution_count": null,
   "id": "9c3dd290",
   "metadata": {},
   "outputs": [],
   "source": []
  }
 ],
 "metadata": {
  "kernelspec": {
   "display_name": "Python 3 (ipykernel)",
   "language": "python",
   "name": "python3"
  },
  "language_info": {
   "codemirror_mode": {
    "name": "ipython",
    "version": 3
   },
   "file_extension": ".py",
   "mimetype": "text/x-python",
   "name": "python",
   "nbconvert_exporter": "python",
   "pygments_lexer": "ipython3",
   "version": "3.10.9"
  }
 },
 "nbformat": 4,
 "nbformat_minor": 5
}
